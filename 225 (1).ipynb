{
  "cells": [
    {
      "cell_type": "markdown",
      "id": "65de8e9a",
      "metadata": {
        "id": "65de8e9a"
      },
      "source": [
        "# 225. Implement Stack using Queues"
      ]
    },
    {
      "cell_type": "code",
      "execution_count": null,
      "id": "63bde14d",
      "metadata": {
        "id": "63bde14d"
      },
      "outputs": [],
      "source": [
        "from collections import deque\n",
        "\n",
        "class MyStack:\n",
        "    def __init__(self):\n",
        "        self.q1 = deque()\n",
        "        self.q2 = deque()\n",
        "\n",
        "    def push(self, x):\n",
        "        self.q2.append(x)\n",
        "        while self.q1:\n",
        "            self.q2.append(self.q1.popleft())\n",
        "\n",
        "        self.q1, self.q2 = self.q2, self.q1\n",
        "\n",
        "    def pop(self):\n",
        "        if not self.q1:\n",
        "            return None\n",
        "        return self.q1.popleft()\n",
        "\n",
        "    def top(self):\n",
        "        if not self.q1:\n",
        "            return None\n",
        "        return self.q1[0]\n",
        "\n",
        "    def empty(self):\n",
        "        return len(self.q1) == 0\n"
      ]
    },
    {
      "cell_type": "markdown",
      "id": "24ad5641",
      "metadata": {
        "id": "24ad5641"
      },
      "source": [
        "## 🧠 풀이 해설\n",
        "\n",
        "- `push` 연산은 새 요소를 보조 큐(q2)에 추가한 뒤, 기존 요소들을 전부 보조 큐로 옮겨서 순서를 유지합니다.\n",
        "- `pop`과 `top`은 주 큐(q1)의 front에서 처리하므로 효율적입니다.\n",
        "- `empty`는 주 큐가 비었는지만 확인하면 됩니다.\n",
        "- 이 방식은 `push`의 시간 복잡도는 O(n), 나머지 연산은 O(1)입니다.\n"
      ]
    }
  ],
  "metadata": {
    "colab": {
      "provenance": []
    },
    "language_info": {
      "name": "python"
    },
    "kernelspec": {
      "name": "python3",
      "display_name": "Python 3"
    }
  },
  "nbformat": 4,
  "nbformat_minor": 5
}