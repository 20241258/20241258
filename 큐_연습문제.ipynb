{
  "nbformat": 4,
  "nbformat_minor": 0,
  "metadata": {
    "colab": {
      "provenance": []
    },
    "kernelspec": {
      "name": "python3",
      "display_name": "Python 3"
    },
    "language_info": {
      "name": "python"
    }
  },
  "cells": [
    {
      "cell_type": "markdown",
      "source": [
        "# 1번"
      ],
      "metadata": {
        "id": "M6KSr5dy3yHU"
      }
    },
    {
      "cell_type": "code",
      "source": [
        "class ListQueue:\n",
        "    def __init__(self):\n",
        "        self.__queue = []\n",
        "\n",
        "    def enqueue(self, x):\n",
        "        self.__queue.insert(0, x)\n",
        "\n",
        "    def dequeue(self):\n",
        "        return self.__queue.pop()\n",
        "\n",
        "    def front(self):\n",
        "        return self.__queue[-1]\n",
        "\n",
        "    def isEmpty(self) -> bool:\n",
        "        return len(self.__queue) == 0\n",
        "\n",
        "    def dequeueAll(self):\n",
        "        self.__queue.clear()"
      ],
      "metadata": {
        "id": "yrnZjPQb3zRv"
      },
      "execution_count": 3,
      "outputs": []
    },
    {
      "cell_type": "markdown",
      "source": [
        "# 2번"
      ],
      "metadata": {
        "id": "DjYPKiDNKDKe"
      }
    },
    {
      "cell_type": "code",
      "source": [
        "from collections import deque\n",
        "\n",
        "def language(s: str) -> bool:\n",
        "    target_set = {'www', 'waw', 'waww'}\n",
        "\n",
        "    q = deque(s)\n",
        "    reconstructed = ''\n",
        "\n",
        "    while q:\n",
        "        reconstructed += q.popleft()\n",
        "\n",
        "    return reconstructed in target_set\n",
        "\n",
        "print(\"입력: www → 결과:\", language(\"www\"))\n",
        "print(\"입력: waw → 결과:\", language(\"waw\"))\n",
        "print(\"입력: wawa → 결과:\", language(\"wawa\"))"
      ],
      "metadata": {
        "colab": {
          "base_uri": "https://localhost:8080/"
        },
        "id": "VatHBfv5KF3i",
        "outputId": "f26fba7f-3d59-48cb-8f52-7b5fae63d5b3"
      },
      "execution_count": 4,
      "outputs": [
        {
          "output_type": "stream",
          "name": "stdout",
          "text": [
            "입력: www → 결과: True\n",
            "입력: waw → 결과: True\n",
            "입력: wawa → 결과: False\n"
          ]
        }
      ]
    },
    {
      "cell_type": "markdown",
      "source": [
        "#3번"
      ],
      "metadata": {
        "id": "_46VBDaDKY5v"
      }
    },
    {
      "cell_type": "code",
      "source": [
        "class LinkedNode:\n",
        "    def __init__(self, item, link=None):\n",
        "        self.item = item\n",
        "        self.link = link\n",
        "\n",
        "class LinkedQueue:\n",
        "    def __init__(self):\n",
        "        self.front = self.rear = None\n",
        "\n",
        "    def isEmpty(self):\n",
        "        return self.front is None\n",
        "\n",
        "    def enqueue(self, item):\n",
        "        new_node = LinkedNode(item)\n",
        "        if self.isEmpty():\n",
        "            self.front = self.rear = new_node\n",
        "        else:\n",
        "            self.rear.link = new_node\n",
        "            self.rear = new_node\n",
        "\n",
        "    def dequeue(self):\n",
        "        if not self.isEmpty():\n",
        "            item = self.front.item\n",
        "            self.front = self.front.link\n",
        "            if self.front is None:\n",
        "                self.rear = None\n",
        "            return item\n",
        "\n",
        "    def clone(self):\n",
        "        new_queue = LinkedQueue()\n",
        "        current = self.front\n",
        "        while current:\n",
        "            new_queue.enqueue(current.item)\n",
        "            current = current.link\n",
        "        return new_queue\n",
        "\n"
      ],
      "metadata": {
        "id": "6lUGgevHO_TZ"
      },
      "execution_count": 6,
      "outputs": []
    },
    {
      "cell_type": "markdown",
      "source": [
        "# 4번"
      ],
      "metadata": {
        "id": "gqS0WlnvPWND"
      }
    },
    {
      "cell_type": "code",
      "source": [
        "from collections import deque\n",
        "\n",
        "class StackWithQueues:\n",
        "    def __init__(self):\n",
        "        self.q1 = deque()\n",
        "        self.q2 = deque()\n",
        "\n",
        "    def push(self, x):\n",
        "        self.q2.append(x)\n",
        "        while self.q1:\n",
        "            self.q2.append(self.q1.popleft())\n",
        "        self.q1, self.q2 = self.q2, self.q1\n",
        "\n",
        "    def pop(self):\n",
        "        if not self.q1:\n",
        "            return None\n",
        "        return self.q1.popleft()\n"
      ],
      "metadata": {
        "id": "o7QNiIV6PZ8a"
      },
      "execution_count": 9,
      "outputs": []
    },
    {
      "cell_type": "markdown",
      "source": [
        "# 5번"
      ],
      "metadata": {
        "id": "uw2ktm0VPiS4"
      }
    },
    {
      "cell_type": "code",
      "source": [
        "class QueueWithStacks:\n",
        "    def __init__(self):\n",
        "        self.stack0 = []\n",
        "        self.stack1 = []\n",
        "\n",
        "    def enqueue(self, x):\n",
        "        self.stack0.append(x)\n",
        "\n",
        "    def dequeue(self):\n",
        "        if not self.stack1:\n",
        "            while self.stack0:\n",
        "                self.stack1.append(self.stack0.pop())\n",
        "        if not self.stack1:\n",
        "            return None\n",
        "        return self.stack1.pop()\n"
      ],
      "metadata": {
        "id": "Pk8MWHToPkLY"
      },
      "execution_count": 8,
      "outputs": []
    },
    {
      "cell_type": "markdown",
      "source": [
        "# 6번"
      ],
      "metadata": {
        "id": "dsnZsZasP9X0"
      }
    },
    {
      "cell_type": "markdown",
      "source": [
        "enqueue()는 O(1), dequeue()는 O(n)"
      ],
      "metadata": {
        "id": "IMFfkuGgQAuR"
      }
    },
    {
      "cell_type": "markdown",
      "source": [
        "#7번"
      ],
      "metadata": {
        "id": "6r9NiMvBQZLp"
      }
    },
    {
      "cell_type": "markdown",
      "source": [
        "enqueue()는 O(n), dequeue()는 O(1)"
      ],
      "metadata": {
        "id": "Cs_S6t_JQcV5"
      }
    },
    {
      "cell_type": "markdown",
      "source": [
        "# 8번"
      ],
      "metadata": {
        "id": "58ZW1zYgQxoT"
      }
    },
    {
      "cell_type": "code",
      "source": [
        "class Deque:\n",
        "    def __init__(self):\n",
        "        self.__deque = []\n",
        "\n",
        "    def addFront(self, x):\n",
        "        self.__deque.append(x)\n",
        "\n",
        "    def addRear(self, x):\n",
        "        self.__deque.insert(0,x)\n",
        "\n",
        "    def removeFront(self):\n",
        "        if self.isEmpty():\n",
        "            return None\n",
        "        return self.__deque.pop(0)\n",
        "\n",
        "    def removeRear(self):\n",
        "        if self.isEmpty():\n",
        "            return None\n",
        "        return self.__deque.pop()\n",
        "\n",
        "    def isEmpty(self):\n",
        "        return len(self.__deque) == 0\n",
        "\n",
        "    def size(self):\n",
        "      return len(self.__deque)\n",
        "\n",
        "    def printDeque(self):\n",
        "        print(\"Deque from front:\", end=' ')\n",
        "        for item in reversed (self.__deque):\n",
        "            print(item, end=' ')\n",
        "        print()\n"
      ],
      "metadata": {
        "id": "bP140UcUQzxT"
      },
      "execution_count": 7,
      "outputs": []
    }
  ]
}