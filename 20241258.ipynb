{
  "nbformat": 4,
  "nbformat_minor": 0,
  "metadata": {
    "colab": {
      "provenance": []
    },
    "kernelspec": {
      "name": "python3",
      "display_name": "Python 3"
    },
    "language_info": {
      "name": "python"
    }
  },
  "cells": [
    {
      "cell_type": "code",
      "execution_count": 2,
      "metadata": {
        "colab": {
          "base_uri": "https://localhost:8080/",
          "height": 78
        },
        "id": "6_sI7oIcwCIb",
        "outputId": "7531ace3-8b46-4f15-bacc-49feae25898b"
      },
      "outputs": [
        {
          "output_type": "display_data",
          "data": {
            "text/plain": [
              "<IPython.core.display.HTML object>"
            ],
            "text/html": [
              "\n",
              "     <input type=\"file\" id=\"files-5d0d86db-eaa6-40f8-abba-7bea98a45bdd\" name=\"files[]\" multiple disabled\n",
              "        style=\"border:none\" />\n",
              "     <output id=\"result-5d0d86db-eaa6-40f8-abba-7bea98a45bdd\">\n",
              "      Upload widget is only available when the cell has been executed in the\n",
              "      current browser session. Please rerun this cell to enable.\n",
              "      </output>\n",
              "      <script>// Copyright 2017 Google LLC\n",
              "//\n",
              "// Licensed under the Apache License, Version 2.0 (the \"License\");\n",
              "// you may not use this file except in compliance with the License.\n",
              "// You may obtain a copy of the License at\n",
              "//\n",
              "//      http://www.apache.org/licenses/LICENSE-2.0\n",
              "//\n",
              "// Unless required by applicable law or agreed to in writing, software\n",
              "// distributed under the License is distributed on an \"AS IS\" BASIS,\n",
              "// WITHOUT WARRANTIES OR CONDITIONS OF ANY KIND, either express or implied.\n",
              "// See the License for the specific language governing permissions and\n",
              "// limitations under the License.\n",
              "\n",
              "/**\n",
              " * @fileoverview Helpers for google.colab Python module.\n",
              " */\n",
              "(function(scope) {\n",
              "function span(text, styleAttributes = {}) {\n",
              "  const element = document.createElement('span');\n",
              "  element.textContent = text;\n",
              "  for (const key of Object.keys(styleAttributes)) {\n",
              "    element.style[key] = styleAttributes[key];\n",
              "  }\n",
              "  return element;\n",
              "}\n",
              "\n",
              "// Max number of bytes which will be uploaded at a time.\n",
              "const MAX_PAYLOAD_SIZE = 100 * 1024;\n",
              "\n",
              "function _uploadFiles(inputId, outputId) {\n",
              "  const steps = uploadFilesStep(inputId, outputId);\n",
              "  const outputElement = document.getElementById(outputId);\n",
              "  // Cache steps on the outputElement to make it available for the next call\n",
              "  // to uploadFilesContinue from Python.\n",
              "  outputElement.steps = steps;\n",
              "\n",
              "  return _uploadFilesContinue(outputId);\n",
              "}\n",
              "\n",
              "// This is roughly an async generator (not supported in the browser yet),\n",
              "// where there are multiple asynchronous steps and the Python side is going\n",
              "// to poll for completion of each step.\n",
              "// This uses a Promise to block the python side on completion of each step,\n",
              "// then passes the result of the previous step as the input to the next step.\n",
              "function _uploadFilesContinue(outputId) {\n",
              "  const outputElement = document.getElementById(outputId);\n",
              "  const steps = outputElement.steps;\n",
              "\n",
              "  const next = steps.next(outputElement.lastPromiseValue);\n",
              "  return Promise.resolve(next.value.promise).then((value) => {\n",
              "    // Cache the last promise value to make it available to the next\n",
              "    // step of the generator.\n",
              "    outputElement.lastPromiseValue = value;\n",
              "    return next.value.response;\n",
              "  });\n",
              "}\n",
              "\n",
              "/**\n",
              " * Generator function which is called between each async step of the upload\n",
              " * process.\n",
              " * @param {string} inputId Element ID of the input file picker element.\n",
              " * @param {string} outputId Element ID of the output display.\n",
              " * @return {!Iterable<!Object>} Iterable of next steps.\n",
              " */\n",
              "function* uploadFilesStep(inputId, outputId) {\n",
              "  const inputElement = document.getElementById(inputId);\n",
              "  inputElement.disabled = false;\n",
              "\n",
              "  const outputElement = document.getElementById(outputId);\n",
              "  outputElement.innerHTML = '';\n",
              "\n",
              "  const pickedPromise = new Promise((resolve) => {\n",
              "    inputElement.addEventListener('change', (e) => {\n",
              "      resolve(e.target.files);\n",
              "    });\n",
              "  });\n",
              "\n",
              "  const cancel = document.createElement('button');\n",
              "  inputElement.parentElement.appendChild(cancel);\n",
              "  cancel.textContent = 'Cancel upload';\n",
              "  const cancelPromise = new Promise((resolve) => {\n",
              "    cancel.onclick = () => {\n",
              "      resolve(null);\n",
              "    };\n",
              "  });\n",
              "\n",
              "  // Wait for the user to pick the files.\n",
              "  const files = yield {\n",
              "    promise: Promise.race([pickedPromise, cancelPromise]),\n",
              "    response: {\n",
              "      action: 'starting',\n",
              "    }\n",
              "  };\n",
              "\n",
              "  cancel.remove();\n",
              "\n",
              "  // Disable the input element since further picks are not allowed.\n",
              "  inputElement.disabled = true;\n",
              "\n",
              "  if (!files) {\n",
              "    return {\n",
              "      response: {\n",
              "        action: 'complete',\n",
              "      }\n",
              "    };\n",
              "  }\n",
              "\n",
              "  for (const file of files) {\n",
              "    const li = document.createElement('li');\n",
              "    li.append(span(file.name, {fontWeight: 'bold'}));\n",
              "    li.append(span(\n",
              "        `(${file.type || 'n/a'}) - ${file.size} bytes, ` +\n",
              "        `last modified: ${\n",
              "            file.lastModifiedDate ? file.lastModifiedDate.toLocaleDateString() :\n",
              "                                    'n/a'} - `));\n",
              "    const percent = span('0% done');\n",
              "    li.appendChild(percent);\n",
              "\n",
              "    outputElement.appendChild(li);\n",
              "\n",
              "    const fileDataPromise = new Promise((resolve) => {\n",
              "      const reader = new FileReader();\n",
              "      reader.onload = (e) => {\n",
              "        resolve(e.target.result);\n",
              "      };\n",
              "      reader.readAsArrayBuffer(file);\n",
              "    });\n",
              "    // Wait for the data to be ready.\n",
              "    let fileData = yield {\n",
              "      promise: fileDataPromise,\n",
              "      response: {\n",
              "        action: 'continue',\n",
              "      }\n",
              "    };\n",
              "\n",
              "    // Use a chunked sending to avoid message size limits. See b/62115660.\n",
              "    let position = 0;\n",
              "    do {\n",
              "      const length = Math.min(fileData.byteLength - position, MAX_PAYLOAD_SIZE);\n",
              "      const chunk = new Uint8Array(fileData, position, length);\n",
              "      position += length;\n",
              "\n",
              "      const base64 = btoa(String.fromCharCode.apply(null, chunk));\n",
              "      yield {\n",
              "        response: {\n",
              "          action: 'append',\n",
              "          file: file.name,\n",
              "          data: base64,\n",
              "        },\n",
              "      };\n",
              "\n",
              "      let percentDone = fileData.byteLength === 0 ?\n",
              "          100 :\n",
              "          Math.round((position / fileData.byteLength) * 100);\n",
              "      percent.textContent = `${percentDone}% done`;\n",
              "\n",
              "    } while (position < fileData.byteLength);\n",
              "  }\n",
              "\n",
              "  // All done.\n",
              "  yield {\n",
              "    response: {\n",
              "      action: 'complete',\n",
              "    }\n",
              "  };\n",
              "}\n",
              "\n",
              "scope.google = scope.google || {};\n",
              "scope.google.colab = scope.google.colab || {};\n",
              "scope.google.colab._files = {\n",
              "  _uploadFiles,\n",
              "  _uploadFilesContinue,\n",
              "};\n",
              "})(self);\n",
              "</script> "
            ]
          },
          "metadata": {}
        },
        {
          "output_type": "stream",
          "name": "stdout",
          "text": [
            "Saving birthday.csv to birthday.csv\n"
          ]
        }
      ],
      "source": [
        "from google.colab import files\n",
        "upload = files.upload()"
      ]
    },
    {
      "cell_type": "markdown",
      "source": [
        "#생일이 느린 10명의 친구 순서대로 찾기"
      ],
      "metadata": {
        "id": "yUMDmfUyxPd2"
      }
    },
    {
      "cell_type": "code",
      "source": [
        "class Heap:\n",
        "    def __init__(self):\n",
        "        self.heap = [None]\n",
        "\n",
        "    def insert(self, x):\n",
        "        self.heap.append(x)\n",
        "        i = len(self.heap) - 1\n",
        "        while i > 1 and self.heap[i][0] > self.heap[i // 2][0]:\n",
        "            self.heap[i], self.heap[i // 2] = self.heap[i // 2], self.heap[i]\n",
        "            i = i // 2\n",
        "\n",
        "    def deleteMax(self):\n",
        "        if len(self.heap) <= 1:\n",
        "            return None\n",
        "        if len(self.heap) == 2:\n",
        "            return self.heap.pop()\n",
        "        root = self.heap[1]\n",
        "        self.heap[1] = self.heap.pop()\n",
        "        self._heapify(1)\n",
        "        return root\n",
        "\n",
        "    def _heapify(self, i):\n",
        "        left = 2 * i\n",
        "        right = 2 * i + 1\n",
        "        largest = i\n",
        "        if left < len(self.heap) and self.heap[left][0] > self.heap[largest][0]:\n",
        "            largest = left\n",
        "        if right < len(self.heap) and self.heap[right][0] > self.heap[largest][0]:\n",
        "            largest = right\n",
        "        if largest != i:\n",
        "            self.heap[i], self.heap[largest] = self.heap[largest], self.heap[i]\n",
        "            self._heapify(largest)\n",
        "\n",
        "    def isEmpty(self):\n",
        "        return len(self.heap) == 1\n",
        "\n",
        "import pandas as pd\n",
        "from datetime import datetime\n",
        "\n",
        "df = pd.read_csv(\"birthday.csv\")\n",
        "\n",
        "def is_valid_date(date_int):\n",
        "    try:\n",
        "        datetime.strptime(str(int(date_int)), \"%Y%m%d\")\n",
        "        return True\n",
        "    except:\n",
        "        return False\n",
        "\n",
        "df = df[df['생년월일8자리(예.20040101)'].apply(is_valid_date)]\n",
        "df['생년월일'] = df['생년월일8자리(예.20040101)'].astype(int)\n",
        "\n",
        "heap = Heap()\n",
        "for _, row in df.iterrows():\n",
        "    heap.insert((row['생년월일'], row['이름']))\n",
        "\n",
        "for i in range(10):\n",
        "    if heap.isEmpty():\n",
        "        break\n",
        "    birth, name = heap.deleteMax()\n",
        "    birth_str = datetime.strptime(str(birth), \"%Y%m%d\").strftime(\"%Y-%m-%d\")\n",
        "    print(f\"{i+1}. {name} - {birth_str}\")\n"
      ],
      "metadata": {
        "colab": {
          "base_uri": "https://localhost:8080/"
        },
        "id": "5jDrtReaxWql",
        "outputId": "a586f2d4-3401-459d-bb7c-c7e57a9ec8c8"
      },
      "execution_count": 6,
      "outputs": [
        {
          "output_type": "stream",
          "name": "stdout",
          "text": [
            "1. 신수민 - 2005-12-30\n",
            "2. 이서영 - 2005-12-25\n",
            "3. 강민주 - 2005-12-14\n",
            "4. 김민경 - 2005-12-02\n",
            "5. 이서영 - 2005-11-12\n",
            "6. 배시은 - 2005-11-02\n",
            "7. 김여원 - 2005-10-31\n",
            "8. 이서진 - 2005-10-28\n",
            "9. 서홍빈 - 2005-10-24\n",
            "10. 김예빈 - 2005-10-19\n"
          ]
        }
      ]
    },
    {
      "cell_type": "markdown",
      "source": [
        "#우리 조원 생년월일 찾기"
      ],
      "metadata": {
        "id": "_DpiIQtF4sO_"
      }
    },
    {
      "cell_type": "code",
      "source": [
        "class Node:\n",
        "    def __init__(self, name, birthday):\n",
        "        self.name = name\n",
        "        self.birthday = birthday\n",
        "        self.prev = None\n",
        "        self.next = None\n",
        "\n",
        "class CircularDoublyLinkedList:\n",
        "    def __init__(self):\n",
        "        self.head = None\n",
        "\n",
        "    def append(self, name, birthday):\n",
        "        new_node = Node(name, birthday)\n",
        "        if not self.head:\n",
        "            self.head = new_node\n",
        "            new_node.prev = new_node\n",
        "            new_node.next = new_node\n",
        "        else:\n",
        "            tail = self.head.prev\n",
        "            tail.next = new_node\n",
        "            new_node.prev = tail\n",
        "            new_node.next = self.head\n",
        "            self.head.prev = new_node\n",
        "\n",
        "    def find(self, name):\n",
        "        if not self.head:\n",
        "            return None\n",
        "        current = self.head\n",
        "        while True:\n",
        "            if current.name == name:\n",
        "                return current\n",
        "            current = current.next\n",
        "            if current == self.head:\n",
        "                break\n",
        "        return None\n",
        "\n",
        "import pandas as pd\n",
        "from datetime import datetime\n",
        "\n",
        "df = pd.read_csv(\"birthday.csv\")\n",
        "\n",
        "def is_valid_date(date_int):\n",
        "    try:\n",
        "        datetime.strptime(str(int(date_int)), \"%Y%m%d\")\n",
        "        return True\n",
        "    except:\n",
        "        return False\n",
        "\n",
        "df = df[df['생년월일8자리(예.20040101)'].apply(is_valid_date)]\n",
        "df['생년월일'] = df['생년월일8자리(예.20040101)'].astype(int)\n",
        "\n",
        "cdll = CircularDoublyLinkedList()\n",
        "for _, row in df.iterrows():\n",
        "    cdll.append(row['이름'], row['생년월일'])\n",
        "\n",
        "team_members = [\"윤여빈\", \"강윤서\", \"김명신\", \"이희서\", \"김나영\", \"김지우\", \"이예린\", \"신수민\"]\n",
        "\n",
        "team_info = []\n",
        "for name in team_members:\n",
        "    node = cdll.find(name)\n",
        "    if node:\n",
        "        birth_str = datetime.strptime(str(node.birthday), \"%Y%m%d\").strftime(\"%Y-%m-%d\")\n",
        "        team_info.append((name, birth_str))\n",
        "\n",
        "team_info\n",
        "\n",
        "for name, birth in team_info:\n",
        "    print(f\"{name} - {birth}\")"
      ],
      "metadata": {
        "colab": {
          "base_uri": "https://localhost:8080/"
        },
        "id": "ea1XohEq6H0K",
        "outputId": "47ffa3e1-af67-450d-8de6-9dd92a3fe725"
      },
      "execution_count": 18,
      "outputs": [
        {
          "output_type": "stream",
          "name": "stdout",
          "text": [
            "윤여빈 - 2003-02-06\n",
            "강윤서 - 2004-11-08\n",
            "김명신 - 2005-10-02\n",
            "이희서 - 2004-04-15\n",
            "김나영 - 2005-10-05\n",
            "김지우 - 2004-07-22\n",
            "이예린 - 2004-03-16\n",
            "신수민 - 2005-12-30\n"
          ]
        }
      ]
    },
    {
      "cell_type": "markdown",
      "source": [
        "#교재 8장 우선 순위 큐 연습문제 풀이"
      ],
      "metadata": {
        "id": "m4yYChuK7Rhg"
      }
    },
    {
      "cell_type": "markdown",
      "source": [
        "#1번"
      ],
      "metadata": {
        "id": "fXkbq5bB7oh1"
      }
    },
    {
      "cell_type": "markdown",
      "source": [
        "최대 힙은 완전 이진 트리이며, 부모 노드가 자식 노드보다 항상 크거나 같다는 성질을 가지고 있으므로 더 깊은 노드가 루트보다 클 수 없다."
      ],
      "metadata": {
        "id": "8CwvN0le7w7f"
      }
    },
    {
      "cell_type": "markdown",
      "source": [
        "#2번"
      ],
      "metadata": {
        "id": "c0HH4Omx8gCy"
      }
    },
    {
      "cell_type": "markdown",
      "source": [
        "A[n-1]은 가장 마지막에 삽입된 노드이지만 가장 작은 값이라고 보장할 수 없다.\n",
        "힙은 전체 정렬된 구조가 아니므로, 가장 작은 값은 A[n-1] 이외에 다른 곳에도 존재할 수 있다."
      ],
      "metadata": {
        "id": "xR9WWInI8gKv"
      }
    },
    {
      "cell_type": "markdown",
      "source": [
        "#3번"
      ],
      "metadata": {
        "id": "vA-Oo3Kj8gai"
      }
    },
    {
      "cell_type": "markdown",
      "source": [
        "n개의 원소 중 n/2개"
      ],
      "metadata": {
        "id": "CqV_Ty-V8glC"
      }
    },
    {
      "cell_type": "markdown",
      "source": [
        "#4번"
      ],
      "metadata": {
        "id": "gzV-35Zn9Ap5"
      }
    },
    {
      "cell_type": "markdown",
      "source": [
        "최악의 경우 : Θ(log n)\n",
        "최선의 경우 : Θ(1)"
      ],
      "metadata": {
        "id": "Au_kCUnw9Azm"
      }
    },
    {
      "cell_type": "markdown",
      "source": [
        "#5번"
      ],
      "metadata": {
        "id": "0cxH9jCr9jh-"
      }
    },
    {
      "cell_type": "markdown",
      "source": [
        "간단하다. 왜냐하면, 마지막 원소는 트리의 가장 오른쪽 아래에 있기 때문에, 단순한 pop 연산으로 삭하면 구조가 유지된다."
      ],
      "metadata": {
        "id": "BBgo1y1C9j8Q"
      }
    },
    {
      "cell_type": "markdown",
      "source": [
        "#6번"
      ],
      "metadata": {
        "id": "HKuIhlZB9kTr"
      }
    },
    {
      "cell_type": "markdown",
      "source": [
        "아래쪽에서부터 위쪽은 Θ(n)이고, 학생이 제안한 위쪽에서부터 아래쪽은 Θ(n log n)이므로, 학생이 제안한 방법이 더 느리기 때문에 비효율적이고, 본문에서 제시한 방법이 더 효율적이다."
      ],
      "metadata": {
        "id": "X_7YR7AR9A5M"
      }
    },
    {
      "cell_type": "markdown",
      "source": [
        "#7번"
      ],
      "metadata": {
        "id": "WTiCKAsaEyBa"
      }
    },
    {
      "cell_type": "markdown",
      "source": [
        "증가된 노드를 부모와 비교하며 위로 올라가며 교환하는 방식인 스며올리기를 사용한다."
      ],
      "metadata": {
        "id": "Cehgii06EyIY"
      }
    },
    {
      "cell_type": "markdown",
      "source": [
        "#LeetCode 703.Kth Largest Element in Stream"
      ],
      "metadata": {
        "id": "gabFQRurGi-7"
      }
    },
    {
      "cell_type": "code",
      "source": [
        "import heapq\n",
        "\n",
        "class KthLargest:\n",
        "\n",
        "    def __init__(self, k: int, nums: list[int]):\n",
        "        self.k = k\n",
        "        self.min_heap = nums\n",
        "        heapq.heapify(self.min_heap)\n",
        "\n",
        "        # 크기 k만 유지\n",
        "        while len(self.min_heap) > k:\n",
        "            heapq.heappop(self.min_heap)\n",
        "\n",
        "    def add(self, val: int) -> int:\n",
        "        heapq.heappush(self.min_heap, val)\n",
        "\n",
        "        if len(self.min_heap) > self.k:\n",
        "            heapq.heappop(self.min_heap)\n",
        "\n",
        "        return self.min_heap[0]\n",
        "\n",
        "kth = KthLargest(3, [9, 7, 8, 6, 4])\n",
        "print(kth.add(3))"
      ],
      "metadata": {
        "colab": {
          "base_uri": "https://localhost:8080/"
        },
        "id": "kP2a4UjqHLPZ",
        "outputId": "82c52009-5f0d-4e63-a8ec-5c96a254fff4"
      },
      "execution_count": 23,
      "outputs": [
        {
          "output_type": "stream",
          "name": "stdout",
          "text": [
            "7\n"
          ]
        }
      ]
    }
  ]
}