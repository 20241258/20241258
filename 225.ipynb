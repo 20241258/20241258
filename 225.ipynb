{
  "cells": [
    {
      "cell_type": "markdown",
      "id": "65de8e9a",
      "metadata": {
        "id": "65de8e9a"
      },
      "source": [
        "# 225. Implement Stack using Queues"
      ]
    },
    {
      "cell_type": "code",
      "execution_count": null,
      "id": "63bde14d",
      "metadata": {
        "id": "63bde14d"
      },
      "outputs": [],
      "source": [
        "from collections import deque\n",
        "\n",
        "class MyStack:\n",
        "    def __init__(self):\n",
        "        self.q1 = deque()\n",
        "        self.q2 = deque()\n",
        "\n",
        "    def push(self, x):\n",
        "        self.q2.append(x)\n",
        "        while self.q1:\n",
        "            self.q2.append(self.q1.popleft())\n",
        "\n",
        "        self.q1, self.q2 = self.q2, self.q1\n",
        "\n",
        "    def pop(self):\n",
        "        if not self.q1:\n",
        "            return None\n",
        "        return self.q1.popleft()\n",
        "\n",
        "    def top(self):\n",
        "        if not self.q1:\n",
        "            return None\n",
        "        return self.q1[0]\n",
        "\n",
        "    def empty(self):\n",
        "        return len(self.q1) == 0\n"
      ]
    }
  ],
  "metadata": {
    "colab": {
      "provenance": []
    },
    "language_info": {
      "name": "python"
    },
    "kernelspec": {
      "name": "python3",
      "display_name": "Python 3"
    }
  },
  "nbformat": 4,
  "nbformat_minor": 5
}