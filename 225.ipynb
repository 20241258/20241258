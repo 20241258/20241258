{
 "cells": [
  {
   "cell_type": "markdown",
   "id": "65de8e9a",
   "metadata": {},
   "source": [
    "# 스택 구현 (큐 2개 사용)\n",
    "\n",
    "두 개의 큐만 사용하여 후입선출(LIFO) 스택을 구현합니다. 구현된 스택은 일반 스택의 모든 기능(`push`, `top`, `pop`, `empty`)을 지원해야 합니다.\n"
   ]
  },
  {
   "cell_type": "code",
   "execution_count": null,
   "id": "63bde14d",
   "metadata": {},
   "outputs": [],
   "source": [
    "from collections import deque\n",
    "\n",
    "class MyStack:\n",
    "    def __init__(self):\n",
    "        self.q1 = deque()  # 주 que\n",
    "        self.q2 = deque()  # 보조 que\n",
    "\n",
    "    def push(self, x):\n",
    "        self.q2.append(x)\n",
    "        \n",
    "        # q1에 있는 원소들을 q2로 이동시킴\n",
    "        while self.q1:\n",
    "            self.q2.append(self.q1.popleft())\n",
    "        \n",
    "        # q1과 q2를 교환\n",
    "        self.q1, self.q2 = self.q2, self.q1\n",
    "\n",
    "    def pop(self):\n",
    "        # q1의 front는 스택의 top이기 때문에, q1에서 pop시킴\n",
    "        if not self.q1:\n",
    "            return None\n",
    "        return self.q1.popleft()\n",
    "\n",
    "    def top(self):\n",
    "        # q1의 front는 스택의 top\n",
    "        if not self.q1:\n",
    "            return None\n",
    "        return self.q1[0]\n",
    "\n",
    "    def empty(self):\n",
    "        return len(self.q1) == 0\n"
   ]
  },
  {
   "cell_type": "code",
   "execution_count": null,
   "id": "46622ce4",
   "metadata": {},
   "outputs": [],
   "source": [
    "# 테스트 예시\n",
    "stack = MyStack()\n",
    "stack.push(1)\n",
    "stack.push(2)\n",
    "print(stack.top())   # 2\n",
    "print(stack.pop())   # 2\n",
    "print(stack.empty()) # False\n",
    "print(stack.pop())   # 1\n",
    "print(stack.empty()) # True\n"
   ]
  },
  {
   "cell_type": "markdown",
   "id": "24ad5641",
   "metadata": {},
   "source": [
    "## 🧠 풀이 해설\n",
    "\n",
    "- `push` 연산은 새 요소를 보조 큐(q2)에 추가한 뒤, 기존 요소들을 전부 보조 큐로 옮겨서 순서를 유지합니다.\n",
    "- `pop`과 `top`은 주 큐(q1)의 front에서 처리하므로 효율적입니다.\n",
    "- `empty`는 주 큐가 비었는지만 확인하면 됩니다.\n",
    "- 이 방식은 `push`의 시간 복잡도는 O(n), 나머지 연산은 O(1)입니다.\n"
   ]
  }
 ],
 "metadata": {},
 "nbformat": 4,
 "nbformat_minor": 5
}
